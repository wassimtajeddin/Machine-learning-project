{
 "cells": [
  {
   "cell_type": "code",
   "execution_count": 32,
   "id": "b656560d-b4fe-46e7-84f2-7fc316e582d7",
   "metadata": {},
   "outputs": [],
   "source": [
    "import pandas as pd\n",
    "from sklearn.tree import DecisionTreeClassifier\n",
    "from sklearn import tree\n",
    "\n",
    "food_data = pd.read_csv(\"food.csv\")\n",
    "X = food_data.drop(columns=[\"genre\"])\n",
    "y = food_data[\"genre\"]\n",
    "\n",
    "model = DecisionTreeClassifier()\n",
    "model.fit(X_train,y_train)\n",
    "\n",
    "tree.export_graphviz(model, out_file=\"food_recommender.dot\", \n",
    "                     feature_names=[\"age\",\"gender\"],\n",
    "                     class_names=sorted(y.unique()),\n",
    "                     label = \"all\",\n",
    "                     rounded=True,\n",
    "                     filled=True)\n"
   ]
  },
  {
   "cell_type": "code",
   "execution_count": null,
   "id": "06813a69-9030-48ce-b557-915679702d40",
   "metadata": {},
   "outputs": [],
   "source": []
  }
 ],
 "metadata": {
  "kernelspec": {
   "display_name": "Python 3 (ipykernel)",
   "language": "python",
   "name": "python3"
  },
  "language_info": {
   "codemirror_mode": {
    "name": "ipython",
    "version": 3
   },
   "file_extension": ".py",
   "mimetype": "text/x-python",
   "name": "python",
   "nbconvert_exporter": "python",
   "pygments_lexer": "ipython3",
   "version": "3.13.1"
  }
 },
 "nbformat": 4,
 "nbformat_minor": 5
}
